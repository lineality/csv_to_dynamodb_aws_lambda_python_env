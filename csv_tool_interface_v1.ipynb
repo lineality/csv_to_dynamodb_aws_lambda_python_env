{
  "nbformat": 4,
  "nbformat_minor": 0,
  "metadata": {
    "colab": {
      "name": "csv_tool_interface_v1.ipynb",
      "provenance": []
    },
    "kernelspec": {
      "name": "python3",
      "display_name": "Python 3"
    },
    "language_info": {
      "name": "python"
    }
  },
  "cells": [
    {
      "cell_type": "code",
      "metadata": {
        "id": "qXoX-slQpqJG"
      },
      "source": [
        "# import libraries\n",
        "import requests\n",
        "import json\n",
        "\n",
        "url = \"https://XXX.execute-api.us-east-1.amazonaws.com/dev\"  \n",
        "\n",
        "# input form: {'input_1': \"x\", 'input_2': \"y\"}\n",
        "val = {\n",
        "  \"S3_BUCKET_NAME\": \"XXX\",\n",
        "  \"target_directory\": \"XXX/XXX/\"\n",
        "\n",
        "r_success = requests.post(url, data=json.dumps(val))\n",
        "\n",
        "print(f\"request responded: {r_success}.\\nthe content of the response was {r_success.json()}\")"
      ],
      "execution_count": null,
      "outputs": []
    }
  ]
}